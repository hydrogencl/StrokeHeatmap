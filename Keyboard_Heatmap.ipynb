{
 "cells": [
  {
   "cell_type": "code",
   "execution_count": 76,
   "id": "c2cd7ff5-5788-4e33-bcae-31a55b5c7b64",
   "metadata": {},
   "outputs": [],
   "source": [
    "import keyboard\n",
    "import math, os, re\n",
    "import matplotlib.pyplot as PLT\n"
   ]
  },
  {
   "cell_type": "code",
   "execution_count": 9,
   "id": "4c01b681-a5bf-43fe-ad70-ee6160bb7c5f",
   "metadata": {},
   "outputs": [],
   "source": [
    "def check_keystroke(ARR_IN):\n",
    "    LEN_KS = int(len(ARR_IN)/2)\n",
    "    ARR_OUT=[]\n",
    "    for ind_in in range(LEN_KS):\n",
    "        ind_out = ind_in *2 +1\n",
    "        STR_IN  = ARR_IN[ind_out]\n",
    "        ARR_OUT.append(re.split(\"\\s\", STR_IN)[0])\n",
    "    return ARR_OUT"
   ]
  },
  {
   "cell_type": "code",
   "execution_count": 18,
   "id": "5d87dae0-9e3a-49e6-b809-08297158a31e",
   "metadata": {},
   "outputs": [],
   "source": [
    "ARR_IN = [\n",
    "\"f1 False\",\\\n",
    "\"f1 False\",\\\n",
    "\"f2 False\",\\\n",
    "\"f2 False\",\\\n",
    "\"f3 False\",\\\n",
    "\"f3 False\",\\\n",
    "\"f4 False\",\\\n",
    "\"f4 False\",\\\n",
    "\"f5 False\",\\\n",
    "\"f5 False\",\\\n",
    "\"f6 False\",\\\n",
    "\"f6 False\",\\\n",
    "\"f7 False\",\\\n",
    "\"f7 False\",\\\n",
    "\"f8 False\",\\\n",
    "\"f8 False\",\\\n",
    "\"f9 False\",\\\n",
    "\"f9 False\",\\\n",
    "\"f10 False\",\\\n",
    "\"f10 False\",\\\n",
    "\"f11 False\",\\\n",
    "\"f11 False\",\\\n",
    "\"f12 False\",\\\n",
    "\"f12 False\",\\\n",
    "\"delete False\",\\\n",
    "\"delete False\",\\\n",
    "\"home False\",\\\n",
    "\"home False\",\\\n",
    "\"end False\",\\\n",
    "\"end False\",\\\n",
    "\"page up False\",\\\n",
    "\"page up False\",\\\n",
    "\"page down False\",\\\n",
    "\"page down False\",\\\n",
    "]"
   ]
  },
  {
   "cell_type": "code",
   "execution_count": 19,
   "id": "433e79ff-3417-4a85-9ce0-2a3c1ade2a9b",
   "metadata": {},
   "outputs": [
    {
     "data": {
      "text/plain": [
       "['f1',\n",
       " 'f2',\n",
       " 'f3',\n",
       " 'f4',\n",
       " 'f5',\n",
       " 'f6',\n",
       " 'f7',\n",
       " 'f8',\n",
       " 'f9',\n",
       " 'f10',\n",
       " 'f11',\n",
       " 'f12',\n",
       " 'delete',\n",
       " 'home',\n",
       " 'end',\n",
       " 'page',\n",
       " 'page']"
      ]
     },
     "execution_count": 19,
     "metadata": {},
     "output_type": "execute_result"
    }
   ],
   "source": [
    "check_keystroke(ARR_IN)"
   ]
  },
  {
   "cell_type": "code",
   "execution_count": null,
   "id": "0197eab5-7b23-4c66-b0e0-ae3b446136ba",
   "metadata": {},
   "outputs": [],
   "source": []
  },
  {
   "cell_type": "code",
   "execution_count": 132,
   "id": "2f4d0cf7-f03f-45ef-8572-986957df792d",
   "metadata": {},
   "outputs": [],
   "source": [
    "DIC_U_INFORMATION   = \\\n",
    "    { \"100KEYS\": {\n",
    "    \"ctrl\" : \"u1.25u1\", \"win\": \"u1.25u1\", \"alt\" : \"u1.25u1\", \"space\" : \"u6.25u1\", \"alt_r\" : \"u1u1\", \"ctrl_r\" : \"u1u1\", \"left\" : \"u1u1\", \"down\" : \"u1u1\", \"right\" : \"u1u1\", \\\n",
    "    \"kp_0\" : \"u1u1\", \"kp_.\" : \"u1u1\", \"kp_enter\" : \"u1u2\",\\\n",
    "    'shift':\"u2.25u1\", 'z' : \"u1u1\", 'x' : \"u1u1\", 'c' : \"u1u1\", 'v' : \"u1u1\", 'b' : \"u1u1\", 'n' : \"u1u1\", 'm' : \"u1u1\", ',' : \"u1u1\", '.' : \"u1u1\", '/' : \"u1u1\",\\\n",
    "    'shift_r': \"u1.75u1\", 'up' : \"u1u1\", 'kp_1' : \"u1u1\", 'kp_2' : \"u1u1\", 'kp_3' : \"u1u1\",\\\n",
    "    'caps lock': \"u1.75u1\", 'a' : \"u1u1\", 's' : \"u1u1\", 'd' : \"u1u1\", 'f' : \"u1u1\", 'g' : \"u1u1\", 'h' : \"u1u1\", 'j' : \"u1u1\", 'k' : \"u1u1\", 'l' : \"u1u1\", ';' : \"u1u1\",\\\n",
    "    \"'\"   : \"u1u1\", 'enter' : \"u2.25u1\", 'kp_4' : \"u1u1\", 'kp_5' : \"u1u1\", 'kp_6' : \"u1u1\", 'kp_+' : \"u1u2\",\\\n",
    "    'tab' : \"u1.50u1\", 'q' : \"u1u1\", 'w' : \"u1u1\", 'e' : \"u1u1\", 'r' : \"u1u1\", 't' : \"u1u1\",  'y' : \"u1u1\",  'u' : \"u1u1\",  'i' : \"u1u1\", 'o' : \"u1u1\", 'p' : \"u1u1\", '[' : \"u1u1\",\\\n",
    "    ']'  : \"u1u1\", '\\\\' : \"u1u1\", 'kp_7' : \"u1u1\", 'kp_8' : \"u1u1\", 'kp_9' : \"u1u1\",\\\n",
    "    '`'  : \"u1u1\", '1' : \"u1u1\", '2' : \"u1u1\", '3' : \"u1u1\", '4' : \"u1u1\", '5' : \"u1u1\", '6' : \"u1u1\", '7' : \"u1u1\", '8' : \"u1u1\", '9' : \"u1u1\", '0' : \"u1u1\", '−' : \"u1u1\", \\\n",
    "    '='  : \"u1u1\", 'backspace' : \"u1u1\" , 'num lock' : \"u1u1\", 'kp_÷' : \"u1u1\", 'kp_×' : \"u1u1\", 'kp_-' : \"u1u1\",\\\n",
    "    'f1' : \"u1u1\", 'f2' : \"u1u1\", 'f3' : \"u1u1\", 'f4' : \"u1u1\", 'f5' : \"u1u1\", 'f6' : \"u1u1\", 'f7' : \"u1u1\", 'f8' : \"u1u1\", 'f9' : \"u1u1\", 'f10' : \"u1u1\", 'f11' : \"u1u1\", 'f12' : \"u1u1\",\\\n",
    "    'delete' : \"u1u1\", 'home' : \"u1u1\", 'end' : \"u1u1\", 'page up' : \"u1u1\", 'page down' : \"u1u1\", 'dummy_u1': \"u1u1\", \"esc\":\"u1u1\" },\n",
    "     \n",
    "     \"108KEYS\": {\n",
    "    \"ctrl\" : \"u1.25u1\", \"win\": \"u1.25u1\", \"alt\" : \"u1.25u1\", \"space\" : \"u6.25u1\", \"alt_r\" : \"u1.25u1\", \"ctrl_r\" : \"u1.25u1\", \"left\" : \"u1u1\", \"down\" : \"u1u1\", \"right\" : \"u1u1\", \\\n",
    "    \"kp_0\" : \"u2u1\", \"kp_.\" : \"u1u1\", \"kp_enter\" : \"u1u2\",\\\n",
    "    'shift':\"u2.25u1\", 'z' : \"u1u1\", 'x' : \"u1u1\", 'c' : \"u1u1\", 'v' : \"u1u1\", 'b' : \"u1u1\", 'n' : \"u1u1\", 'm' : \"u1u1\", ',' : \"u1u1\", '.' : \"u1u1\", '/' : \"u1u1\",\\\n",
    "    'shift_r': \"u1.75u1\", 'up' : \"u1u1\", 'kp_1' : \"u1u1\", 'kp_2' : \"u1u1\", 'kp_3' : \"u1u1\",\\\n",
    "    'caps lock': \"u1.75u1\", 'a' : \"u1u1\", 's' : \"u1u1\", 'd' : \"u1u1\", 'f' : \"u1u1\", 'g' : \"u1u1\", 'h' : \"u1u1\", 'j' : \"u1u1\", 'k' : \"u1u1\", 'l' : \"u1u1\", ';' : \"u1u1\",\\\n",
    "    \"'\" : \"u1u1\", 'enter' : \"u2.25u1\", 'kp_4' : \"u1u1\", 'kp_5' : \"u1u1\", 'kp_6' : \"u1u1\", 'kp_+' : \"u1u1\",\\\n",
    "    'tab' : \"u1.5u1\", 'q' : \"u1u1\", 'w' : \"u1u1\", 'e' : \"u1u1\", 'r' : \"u1u1\", 't' : \"u1u1\",  'y' : \"u1u1\",  'u' : \"u1u1\",  'i' : \"u1u1\", 'o' : \"u1u1\", 'p' : \"u1u1\", '[' : \"u1u1\",\\\n",
    "    ']' : \"u1u1\", '\\\\' : \"u1u1\", 'kp_7' : \"u1u1\", 'kp_8' : \"u1u1\", 'kp_9' : \"u1u1\",\\\n",
    "    '`' : \"u1u1\", '1' : \"u1u1\", '2' : \"u1u1\", '3' : \"u1u1\", '4' : \"u1u1\", '5' : \"u1u1\", '6' : \"u1u1\", '7' : \"u1u1\", '8' : \"u1u1\", '9' : \"u1u1\", '0' : \"u1u1\", '−' : \"u1u1\", \\\n",
    "    '=' : \"u1u1\", 'backspace' : \"u1u1\" , 'num lock' : \"u1u1\", 'kp_÷' : \"u1u1\", 'kp_×' : \"u1u1\", 'kp_-' : \"u1u1\",\\\n",
    "    \"esc\":\"u1u1\", 'f1' : \"u1u1\", 'f2' : \"u1u1\", 'f3' : \"u1u1\", 'f4' : \"u1u1\", 'f5' : \"u1u1\", 'f6' : \"u1u1\", 'f7' : \"u1u1\", 'f8' : \"u1u1\", 'f9' : \"u1u1\", 'f10' : \"u1u1\", 'f11' : \"u1u1\", 'f12' : \"u1u1\",\\\n",
    "    'delete' : \"u1u1\", 'home' : \"u1u1\", 'end' : \"u1u1\", 'page up' : \"u1u1\", 'page down' : \"u1u1\", 'dummy_u1': \"u1u1\",'dummy_u125': \"u1.25u1\", 'void_u1': \"u1u1\", \"insert\": \"u1u1\", 'print screen': \"u1u1\",\\\n",
    "    'scroll lock': \"u1u1\", 'pause break': \"u1u1\"},  \n",
    "    }\n",
    "\n",
    "\n",
    "DIC_KEYBOARD_LAYOUT = {\"FULL96\": [ [\"ctrl\", \"win\", \"alt\", \"space\", \"alt_r\", \"dummy_u1\",\"ctrl_r\", \"left\", \"down\", \"right\", \"kp_0\", \"kp_.\", \"kp_enter\"],\\\n",
    "                                   ['shift','z','x','c','v','b','n','m',',','.','/','shift','up','kp_1','kp_2','kp_3'],\\\n",
    "                                   ['caps lock','a','s','d','f','g','h','j','k','l',';',\"'\",'enter','kp_4','kp_5','kp_6','kp_+'],\\\n",
    "                                   ['tab','q','w','e','r','t', 'y', 'u', 'i', 'o', 'p', '[', ']', '\\\\', 'kp_7', 'kp_8', 'kp_9'],\\\n",
    "                                   ['`','1', '2', '3', '4', '5', '6', '7', '8', '9', '0', '−', '=', 'backspace', 'num lock', 'kp_÷', 'kp_×', 'kp_-'],\\\n",
    "                                   ['esc','f1', 'f2', 'f3', 'f4', 'f5', 'f6', 'f7', 'f8', 'f9', 'f10', 'f11', 'f12', 'delete', 'home', 'end', 'page up', 'page down', 'dummy_u1']\n",
    "                                 ],\n",
    "                      \"FULL100\": [ [\"ctrl\", \"win\", \"alt\", \"space\", \"alt_r\", \"dummy_u125\", \"dummy_u125\", \"ctrl_r\", \"left\", \"down\", \"right\", \"kp_0\", \"kp_.\", \"kp_enter\"],\\\n",
    "                                   ['shift','z','x','c','v','b','n','m',',','.','/','shift',\"void_u1\", 'up', \"void_u1\", 'kp_1','kp_2','kp_3'],\\\n",
    "                                   ['caps lock','a','s','d','f','g','h','j','k','l',';',\"'\",'enter', \"void_u1\", \"void_u1\", \"void_u1\",'kp_4','kp_5','kp_6','kp_+'],\\\n",
    "                                   ['tab','q','w','e','r','t', 'y', 'u', 'i', 'o', 'p', '[', ']', '\\\\', \"delete\", \"home\", \"page down\", 'kp_7', 'kp_8', 'kp_9'],\\\n",
    "                                   ['`','1', '2', '3', '4', '5', '6', '7', '8', '9', '0', '−', '=', 'backspace', \"insert\", \"end\", \"page up\",  'num lock', 'kp_÷', 'kp_×', 'kp_-'],\\\n",
    "                                   ['esc','f1', 'f2', 'f3', 'f4', 'f5', 'f6', 'f7', 'f8', 'f9', 'f10', 'f11', 'f12', 'print screen', 'scroll lock', 'pause break', 'void_u1', 'void_u1', 'void_u1']\n",
    "                                ],\n",
    "                      \"TKL\"    : [ [\"ctrl\", \"win\", \"alt\", \"space\", \"alt_r\", \"dummy_u125\", \"dummy_u125\", \"ctrl_r\", \"left\", \"down\", \"right\"],\\\n",
    "                                   ['shift','z','x','c','v','b','n','m',',','.','/','shift',\"void_u1\", 'up', \"void_u1\"],\\\n",
    "                                   ['caps lock','a','s','d','f','g','h','j','k','l',';',\"'\",'enter', \"void_u1\", \"void_u1\", \"void_u1\"],\\\n",
    "                                   ['tab','q','w','e','r','t', 'y', 'u', 'i', 'o', 'p', '[', ']', '\\\\', \"delete\", \"home\", \"page down\", ],\\\n",
    "                                   ['`','1', '2', '3', '4', '5', '6', '7', '8', '9', '0', '−', '=', 'backspace', \"insert\", \"end\", \"page up\"],\\\n",
    "                                   ['esc','f1', 'f2', 'f3', 'f4', 'f5', 'f6', 'f7', 'f8', 'f9', 'f10', 'f11', 'f12', 'print screen', 'scroll lock', 'pause break', 'void_u1', 'void_u1', 'void_u1']\n",
    "                                ]\n",
    "                      }\n",
    "\n",
    "DIC_UNIT_COORD = {\n",
    "    \"u1u1\"    : [[0.0 ],[]], \n",
    "    \"u125u1\"  : [],\n",
    "    \"u625\"    : [],\n",
    "}"
   ]
  },
  {
   "cell_type": "code",
   "execution_count": 133,
   "id": "6618f565-6113-4279-b517-da6b3e4df964",
   "metadata": {},
   "outputs": [],
   "source": [
    "def u2shape(STR_IN):\n",
    "    ARR_U = re.split(\"u\",STR_IN)\n",
    "    DX = float(ARR_U[1])\n",
    "    DY = float(ARR_U[2])\n",
    "    #ARR_POINTS = [[0,0],[DX,0],[DX,DY],[0,DY],[0,0]]\n",
    "    ARR_POINTS = [[0,DX, DX, 0, 0], [0, 0, DY, DY, 0]]\n",
    "    return { \"DX\" :DX, \"DY\": DY, \"POINTS\": ARR_POINTS}"
   ]
  },
  {
   "cell_type": "code",
   "execution_count": 146,
   "id": "20c61e95-cb3d-49b8-9913-830c921d4ba9",
   "metadata": {},
   "outputs": [],
   "source": [
    "def plot_a_key(ARR_POINTS, ARR_POSITION=[0,0], NUM_Y=0, NUM_X=0, NUM_OFFSET=0.1):\n",
    "    for P in range(len(ARR_POINTS[0])):\n",
    "        ARR_POINTS[0][P] += (ARR_POSITION[0] + NUM_OFFSET*NUM_X)\n",
    "        ARR_POINTS[1][P] += (ARR_POSITION[1] + NUM_OFFSET*NUM_Y)\n",
    "    print(ARR_POINTS)\n",
    "    PLT.plot(ARR_POINTS[0], ARR_POINTS[1], color=\"k\")"
   ]
  },
  {
   "cell_type": "code",
   "execution_count": 147,
   "id": "031eb96c-cedd-4157-aee5-b3c1f3572cb0",
   "metadata": {},
   "outputs": [],
   "source": [
    "def create_key_map(ARR_KEYBOARD_LAYOUT, DIC_U_INFORMATION):\n",
    "    NUM_ROW = len(ARR_KEYBOARD_LAYOUT)\n",
    "    ARR_KEY_MAP = [ [] for R in range(NUM_ROW)]\n",
    "    for R in range(NUM_ROW):\n",
    "        NUM_LAST_POS = 0.0\n",
    "        NUM_COL = len(ARR_KEYBOARD_LAYOUT[R])\n",
    "        ARR_KEY_MAP[R] = [0.0 for C in range(NUM_COL)]\n",
    "        for C in range(NUM_COL):\n",
    "            ARR_KEY_MAP[R][C] = NUM_LAST_POS\n",
    "            ARR_U_INFO    = u2shape(DIC_U_INFORMATION[ARR_KEYBOARD_LAYOUT[R][C]]) \n",
    "            NUM_LAST_POS += ARR_U_INFO[\"DX\"]\n",
    "    return ARR_KEY_MAP"
   ]
  },
  {
   "cell_type": "code",
   "execution_count": 148,
   "id": "1eac100d-061e-41b3-bc63-17fa5bffead5",
   "metadata": {},
   "outputs": [],
   "source": [
    "ARR_K_M = create_key_map(DIC_KEYBOARD_LAYOUT[\"FULL100\"], DIC_U_INFORMATION[\"108KEYS\"])"
   ]
  },
  {
   "cell_type": "code",
   "execution_count": 149,
   "id": "2066e065-d8a5-434e-ab22-f12070caeb76",
   "metadata": {},
   "outputs": [
    {
     "name": "stdout",
     "output_type": "stream",
     "text": [
      "[[0.0, 1.25, 1.25, 0.0, 0.0], [0.0, 0.0, 1.0, 1.0, 0.0]]\n",
      "[[1.35, 2.6, 2.6, 1.35, 1.35], [0.0, 0.0, 1.0, 1.0, 0.0]]\n"
     ]
    },
    {
     "data": {
      "image/png": "[encoded data removed]",
      "text/plain": [
       "<Figure size 432x288 with 1 Axes>"
      ]
     },
     "metadata": {
      "needs_background": "light"
     },
     "output_type": "display_data"
    }
   ],
   "source": [
    "\n",
    "ARR_MAPS_IN = DIC_KEYBOARD_LAYOUT[\"FULL100\"]\n",
    "for R in range(DIC_KEYBOARD_LAYOUT[\"FULL100\"]):\n",
    "    for C in DIC_KEYBOARD_LAYOUT[\"FULL100\"]\n",
    "\n",
    "\n",
    "u2shape(\"u1.25u1\")\n",
    "plot_a_key(u2shape(\"u1.25u1\")[\"POINTS\"], [0, 0])\n",
    "plot_a_key(u2shape(\"u1.25u1\")[\"POINTS\"], [1.25, 0], NUM_X=1)"
   ]
  },
  {
   "cell_type": "code",
   "execution_count": 145,
   "id": "1dfa07e6-259e-48ac-b76b-d44576d57702",
   "metadata": {},
   "outputs": [
    {
     "data": {
      "text/plain": [
       "[0.0,\n",
       " 1.25,\n",
       " 2.5,\n",
       " 3.75,\n",
       " 10.0,\n",
       " 11.25,\n",
       " 12.5,\n",
       " 13.75,\n",
       " 15.0,\n",
       " 16.0,\n",
       " 17.0,\n",
       " 18.0,\n",
       " 20.0,\n",
       " 21.0]"
      ]
     },
     "execution_count": 145,
     "metadata": {},
     "output_type": "execute_result"
    }
   ],
   "source": [
    "ARR_K_M[0][:]"
   ]
  },
  {
   "cell_type": "code",
   "execution_count": 71,
   "id": "e6a2c05c-546a-455f-b00d-63e908154fcb",
   "metadata": {},
   "outputs": [
    {
     "name": "stdout",
     "output_type": "stream",
     "text": [
      "ctrl {'DX': 1.25, 'DY': 1.0, 'POINTS': [[0, 0], [1.25, 0], [1.25, 1.0], [0, 1.0], [0, 0]]}\n",
      "win {'DX': 1.25, 'DY': 1.0, 'POINTS': [[0, 0], [1.25, 0], [1.25, 1.0], [0, 1.0], [0, 0]]}\n",
      "alt {'DX': 1.25, 'DY': 1.0, 'POINTS': [[0, 0], [1.25, 0], [1.25, 1.0], [0, 1.0], [0, 0]]}\n",
      "space {'DX': 6.25, 'DY': 1.0, 'POINTS': [[0, 0], [6.25, 0], [6.25, 1.0], [0, 1.0], [0, 0]]}\n",
      "alt_r {'DX': 1.0, 'DY': 1.0, 'POINTS': [[0, 0], [1.0, 0], [1.0, 1.0], [0, 1.0], [0, 0]]}\n",
      "ctrl_r {'DX': 1.0, 'DY': 1.0, 'POINTS': [[0, 0], [1.0, 0], [1.0, 1.0], [0, 1.0], [0, 0]]}\n",
      "left {'DX': 1.0, 'DY': 1.0, 'POINTS': [[0, 0], [1.0, 0], [1.0, 1.0], [0, 1.0], [0, 0]]}\n",
      "down {'DX': 1.0, 'DY': 1.0, 'POINTS': [[0, 0], [1.0, 0], [1.0, 1.0], [0, 1.0], [0, 0]]}\n",
      "right {'DX': 1.0, 'DY': 1.0, 'POINTS': [[0, 0], [1.0, 0], [1.0, 1.0], [0, 1.0], [0, 0]]}\n",
      "kp_0 {'DX': 1.0, 'DY': 1.0, 'POINTS': [[0, 0], [1.0, 0], [1.0, 1.0], [0, 1.0], [0, 0]]}\n",
      "kp_. {'DX': 1.0, 'DY': 1.0, 'POINTS': [[0, 0], [1.0, 0], [1.0, 1.0], [0, 1.0], [0, 0]]}\n",
      "kp_enter {'DX': 1.0, 'DY': 2.0, 'POINTS': [[0, 0], [1.0, 0], [1.0, 2.0], [0, 2.0], [0, 0]]}\n",
      "shift {'DX': 2.25, 'DY': 1.0, 'POINTS': [[0, 0], [2.25, 0], [2.25, 1.0], [0, 1.0], [0, 0]]}\n",
      "z {'DX': 1.0, 'DY': 1.0, 'POINTS': [[0, 0], [1.0, 0], [1.0, 1.0], [0, 1.0], [0, 0]]}\n",
      "x {'DX': 1.0, 'DY': 1.0, 'POINTS': [[0, 0], [1.0, 0], [1.0, 1.0], [0, 1.0], [0, 0]]}\n",
      "c {'DX': 1.0, 'DY': 1.0, 'POINTS': [[0, 0], [1.0, 0], [1.0, 1.0], [0, 1.0], [0, 0]]}\n",
      "v {'DX': 1.0, 'DY': 1.0, 'POINTS': [[0, 0], [1.0, 0], [1.0, 1.0], [0, 1.0], [0, 0]]}\n",
      "b {'DX': 1.0, 'DY': 1.0, 'POINTS': [[0, 0], [1.0, 0], [1.0, 1.0], [0, 1.0], [0, 0]]}\n",
      "n {'DX': 1.0, 'DY': 1.0, 'POINTS': [[0, 0], [1.0, 0], [1.0, 1.0], [0, 1.0], [0, 0]]}\n",
      "m {'DX': 1.0, 'DY': 1.0, 'POINTS': [[0, 0], [1.0, 0], [1.0, 1.0], [0, 1.0], [0, 0]]}\n",
      ", {'DX': 1.0, 'DY': 1.0, 'POINTS': [[0, 0], [1.0, 0], [1.0, 1.0], [0, 1.0], [0, 0]]}\n",
      ". {'DX': 1.0, 'DY': 1.0, 'POINTS': [[0, 0], [1.0, 0], [1.0, 1.0], [0, 1.0], [0, 0]]}\n",
      "/ {'DX': 1.0, 'DY': 1.0, 'POINTS': [[0, 0], [1.0, 0], [1.0, 1.0], [0, 1.0], [0, 0]]}\n",
      "shift_r {'DX': 1.75, 'DY': 1.0, 'POINTS': [[0, 0], [1.75, 0], [1.75, 1.0], [0, 1.0], [0, 0]]}\n",
      "up {'DX': 1.0, 'DY': 1.0, 'POINTS': [[0, 0], [1.0, 0], [1.0, 1.0], [0, 1.0], [0, 0]]}\n",
      "kp_1 {'DX': 1.0, 'DY': 1.0, 'POINTS': [[0, 0], [1.0, 0], [1.0, 1.0], [0, 1.0], [0, 0]]}\n",
      "kp_2 {'DX': 1.0, 'DY': 1.0, 'POINTS': [[0, 0], [1.0, 0], [1.0, 1.0], [0, 1.0], [0, 0]]}\n",
      "kp_3 {'DX': 1.0, 'DY': 1.0, 'POINTS': [[0, 0], [1.0, 0], [1.0, 1.0], [0, 1.0], [0, 0]]}\n",
      "caps lock {'DX': 1.75, 'DY': 1.0, 'POINTS': [[0, 0], [1.75, 0], [1.75, 1.0], [0, 1.0], [0, 0]]}\n",
      "a {'DX': 1.0, 'DY': 1.0, 'POINTS': [[0, 0], [1.0, 0], [1.0, 1.0], [0, 1.0], [0, 0]]}\n",
      "s {'DX': 1.0, 'DY': 1.0, 'POINTS': [[0, 0], [1.0, 0], [1.0, 1.0], [0, 1.0], [0, 0]]}\n",
      "d {'DX': 1.0, 'DY': 1.0, 'POINTS': [[0, 0], [1.0, 0], [1.0, 1.0], [0, 1.0], [0, 0]]}\n",
      "f {'DX': 1.0, 'DY': 1.0, 'POINTS': [[0, 0], [1.0, 0], [1.0, 1.0], [0, 1.0], [0, 0]]}\n",
      "g {'DX': 1.0, 'DY': 1.0, 'POINTS': [[0, 0], [1.0, 0], [1.0, 1.0], [0, 1.0], [0, 0]]}\n",
      "h {'DX': 1.0, 'DY': 1.0, 'POINTS': [[0, 0], [1.0, 0], [1.0, 1.0], [0, 1.0], [0, 0]]}\n",
      "j {'DX': 1.0, 'DY': 1.0, 'POINTS': [[0, 0], [1.0, 0], [1.0, 1.0], [0, 1.0], [0, 0]]}\n",
      "k {'DX': 1.0, 'DY': 1.0, 'POINTS': [[0, 0], [1.0, 0], [1.0, 1.0], [0, 1.0], [0, 0]]}\n",
      "l {'DX': 1.0, 'DY': 1.0, 'POINTS': [[0, 0], [1.0, 0], [1.0, 1.0], [0, 1.0], [0, 0]]}\n",
      "; {'DX': 1.0, 'DY': 1.0, 'POINTS': [[0, 0], [1.0, 0], [1.0, 1.0], [0, 1.0], [0, 0]]}\n",
      "' {'DX': 1.0, 'DY': 1.0, 'POINTS': [[0, 0], [1.0, 0], [1.0, 1.0], [0, 1.0], [0, 0]]}\n",
      "enter {'DX': 2.25, 'DY': 1.0, 'POINTS': [[0, 0], [2.25, 0], [2.25, 1.0], [0, 1.0], [0, 0]]}\n",
      "kp_4 {'DX': 1.0, 'DY': 1.0, 'POINTS': [[0, 0], [1.0, 0], [1.0, 1.0], [0, 1.0], [0, 0]]}\n",
      "kp_5 {'DX': 1.0, 'DY': 1.0, 'POINTS': [[0, 0], [1.0, 0], [1.0, 1.0], [0, 1.0], [0, 0]]}\n",
      "kp_6 {'DX': 1.0, 'DY': 1.0, 'POINTS': [[0, 0], [1.0, 0], [1.0, 1.0], [0, 1.0], [0, 0]]}\n",
      "kp_+ {'DX': 1.0, 'DY': 2.0, 'POINTS': [[0, 0], [1.0, 0], [1.0, 2.0], [0, 2.0], [0, 0]]}\n",
      "tab {'DX': 1.5, 'DY': 1.0, 'POINTS': [[0, 0], [1.5, 0], [1.5, 1.0], [0, 1.0], [0, 0]]}\n",
      "q {'DX': 1.0, 'DY': 1.0, 'POINTS': [[0, 0], [1.0, 0], [1.0, 1.0], [0, 1.0], [0, 0]]}\n",
      "w {'DX': 1.0, 'DY': 1.0, 'POINTS': [[0, 0], [1.0, 0], [1.0, 1.0], [0, 1.0], [0, 0]]}\n",
      "e {'DX': 1.0, 'DY': 1.0, 'POINTS': [[0, 0], [1.0, 0], [1.0, 1.0], [0, 1.0], [0, 0]]}\n",
      "r {'DX': 1.0, 'DY': 1.0, 'POINTS': [[0, 0], [1.0, 0], [1.0, 1.0], [0, 1.0], [0, 0]]}\n",
      "t {'DX': 1.0, 'DY': 1.0, 'POINTS': [[0, 0], [1.0, 0], [1.0, 1.0], [0, 1.0], [0, 0]]}\n",
      "y {'DX': 1.0, 'DY': 1.0, 'POINTS': [[0, 0], [1.0, 0], [1.0, 1.0], [0, 1.0], [0, 0]]}\n",
      "u {'DX': 1.0, 'DY': 1.0, 'POINTS': [[0, 0], [1.0, 0], [1.0, 1.0], [0, 1.0], [0, 0]]}\n",
      "i {'DX': 1.0, 'DY': 1.0, 'POINTS': [[0, 0], [1.0, 0], [1.0, 1.0], [0, 1.0], [0, 0]]}\n",
      "o {'DX': 1.0, 'DY': 1.0, 'POINTS': [[0, 0], [1.0, 0], [1.0, 1.0], [0, 1.0], [0, 0]]}\n",
      "p {'DX': 1.0, 'DY': 1.0, 'POINTS': [[0, 0], [1.0, 0], [1.0, 1.0], [0, 1.0], [0, 0]]}\n",
      "[ {'DX': 1.0, 'DY': 1.0, 'POINTS': [[0, 0], [1.0, 0], [1.0, 1.0], [0, 1.0], [0, 0]]}\n",
      "] {'DX': 1.0, 'DY': 1.0, 'POINTS': [[0, 0], [1.0, 0], [1.0, 1.0], [0, 1.0], [0, 0]]}\n",
      "\\ {'DX': 1.0, 'DY': 1.0, 'POINTS': [[0, 0], [1.0, 0], [1.0, 1.0], [0, 1.0], [0, 0]]}\n",
      "7 {'DX': 1.0, 'DY': 1.0, 'POINTS': [[0, 0], [1.0, 0], [1.0, 1.0], [0, 1.0], [0, 0]]}\n",
      "8 {'DX': 1.0, 'DY': 1.0, 'POINTS': [[0, 0], [1.0, 0], [1.0, 1.0], [0, 1.0], [0, 0]]}\n",
      "9 {'DX': 1.0, 'DY': 1.0, 'POINTS': [[0, 0], [1.0, 0], [1.0, 1.0], [0, 1.0], [0, 0]]}\n",
      "` {'DX': 1.0, 'DY': 1.0, 'POINTS': [[0, 0], [1.0, 0], [1.0, 1.0], [0, 1.0], [0, 0]]}\n",
      "1 {'DX': 1.0, 'DY': 1.0, 'POINTS': [[0, 0], [1.0, 0], [1.0, 1.0], [0, 1.0], [0, 0]]}\n",
      "2 {'DX': 1.0, 'DY': 1.0, 'POINTS': [[0, 0], [1.0, 0], [1.0, 1.0], [0, 1.0], [0, 0]]}\n",
      "3 {'DX': 1.0, 'DY': 1.0, 'POINTS': [[0, 0], [1.0, 0], [1.0, 1.0], [0, 1.0], [0, 0]]}\n",
      "4 {'DX': 1.0, 'DY': 1.0, 'POINTS': [[0, 0], [1.0, 0], [1.0, 1.0], [0, 1.0], [0, 0]]}\n",
      "5 {'DX': 1.0, 'DY': 1.0, 'POINTS': [[0, 0], [1.0, 0], [1.0, 1.0], [0, 1.0], [0, 0]]}\n",
      "6 {'DX': 1.0, 'DY': 1.0, 'POINTS': [[0, 0], [1.0, 0], [1.0, 1.0], [0, 1.0], [0, 0]]}\n",
      "0 {'DX': 1.0, 'DY': 1.0, 'POINTS': [[0, 0], [1.0, 0], [1.0, 1.0], [0, 1.0], [0, 0]]}\n",
      "− {'DX': 1.0, 'DY': 1.0, 'POINTS': [[0, 0], [1.0, 0], [1.0, 1.0], [0, 1.0], [0, 0]]}\n",
      "= {'DX': 1.0, 'DY': 1.0, 'POINTS': [[0, 0], [1.0, 0], [1.0, 1.0], [0, 1.0], [0, 0]]}\n",
      "backspace {'DX': 1.0, 'DY': 1.0, 'POINTS': [[0, 0], [1.0, 0], [1.0, 1.0], [0, 1.0], [0, 0]]}\n",
      "num lock {'DX': 1.0, 'DY': 1.0, 'POINTS': [[0, 0], [1.0, 0], [1.0, 1.0], [0, 1.0], [0, 0]]}\n",
      "kp_÷ {'DX': 1.0, 'DY': 1.0, 'POINTS': [[0, 0], [1.0, 0], [1.0, 1.0], [0, 1.0], [0, 0]]}\n",
      "kp_× {'DX': 1.0, 'DY': 1.0, 'POINTS': [[0, 0], [1.0, 0], [1.0, 1.0], [0, 1.0], [0, 0]]}\n",
      "kp_- {'DX': 1.0, 'DY': 1.0, 'POINTS': [[0, 0], [1.0, 0], [1.0, 1.0], [0, 1.0], [0, 0]]}\n",
      "f1 {'DX': 1.0, 'DY': 1.0, 'POINTS': [[0, 0], [1.0, 0], [1.0, 1.0], [0, 1.0], [0, 0]]}\n",
      "f2 {'DX': 1.0, 'DY': 1.0, 'POINTS': [[0, 0], [1.0, 0], [1.0, 1.0], [0, 1.0], [0, 0]]}\n",
      "f3 {'DX': 1.0, 'DY': 1.0, 'POINTS': [[0, 0], [1.0, 0], [1.0, 1.0], [0, 1.0], [0, 0]]}\n",
      "f4 {'DX': 1.0, 'DY': 1.0, 'POINTS': [[0, 0], [1.0, 0], [1.0, 1.0], [0, 1.0], [0, 0]]}\n",
      "f5 {'DX': 1.0, 'DY': 1.0, 'POINTS': [[0, 0], [1.0, 0], [1.0, 1.0], [0, 1.0], [0, 0]]}\n",
      "f6 {'DX': 1.0, 'DY': 1.0, 'POINTS': [[0, 0], [1.0, 0], [1.0, 1.0], [0, 1.0], [0, 0]]}\n",
      "f7 {'DX': 1.0, 'DY': 1.0, 'POINTS': [[0, 0], [1.0, 0], [1.0, 1.0], [0, 1.0], [0, 0]]}\n",
      "f8 {'DX': 1.0, 'DY': 1.0, 'POINTS': [[0, 0], [1.0, 0], [1.0, 1.0], [0, 1.0], [0, 0]]}\n",
      "f9 {'DX': 1.0, 'DY': 1.0, 'POINTS': [[0, 0], [1.0, 0], [1.0, 1.0], [0, 1.0], [0, 0]]}\n",
      "f10 {'DX': 1.0, 'DY': 1.0, 'POINTS': [[0, 0], [1.0, 0], [1.0, 1.0], [0, 1.0], [0, 0]]}\n",
      "f11 {'DX': 1.0, 'DY': 1.0, 'POINTS': [[0, 0], [1.0, 0], [1.0, 1.0], [0, 1.0], [0, 0]]}\n",
      "f12 {'DX': 1.0, 'DY': 1.0, 'POINTS': [[0, 0], [1.0, 0], [1.0, 1.0], [0, 1.0], [0, 0]]}\n",
      "delete {'DX': 1.0, 'DY': 1.0, 'POINTS': [[0, 0], [1.0, 0], [1.0, 1.0], [0, 1.0], [0, 0]]}\n",
      "home {'DX': 1.0, 'DY': 1.0, 'POINTS': [[0, 0], [1.0, 0], [1.0, 1.0], [0, 1.0], [0, 0]]}\n",
      "end {'DX': 1.0, 'DY': 1.0, 'POINTS': [[0, 0], [1.0, 0], [1.0, 1.0], [0, 1.0], [0, 0]]}\n",
      "page up {'DX': 1.0, 'DY': 1.0, 'POINTS': [[0, 0], [1.0, 0], [1.0, 1.0], [0, 1.0], [0, 0]]}\n",
      "page down {'DX': 1.0, 'DY': 1.0, 'POINTS': [[0, 0], [1.0, 0], [1.0, 1.0], [0, 1.0], [0, 0]]}\n",
      "dummy_u1 {'DX': 1.0, 'DY': 1.0, 'POINTS': [[0, 0], [1.0, 0], [1.0, 1.0], [0, 1.0], [0, 0]]}\n"
     ]
    }
   ],
   "source": [
    "KEYS = list(DIC_U_INFORMATION[\"100KEYS\"].keys())\n",
    "for k in KEYS:\n",
    "    print(k, u2shape(DIC_U_INFORMATION[\"100KEYS\"][k]))"
   ]
  },
  {
   "cell_type": "code",
   "execution_count": 45,
   "id": "57768eb0-b79f-40a7-ae27-78fd100bd499",
   "metadata": {},
   "outputs": [
    {
     "data": {
      "text/plain": [
       "'u1.25u1'"
      ]
     },
     "execution_count": 45,
     "metadata": {},
     "output_type": "execute_result"
    }
   ],
   "source": [
    "DIC_U_INFORMATION[\"100KEYS\"][\"ctrl\"]"
   ]
  },
  {
   "cell_type": "code",
   "execution_count": 55,
   "id": "de245a77-21e3-4dcd-a1e6-f126562ebea6",
   "metadata": {},
   "outputs": [
    {
     "data": {
      "text/plain": [
       "['ctrl',\n",
       " 'win',\n",
       " 'alt',\n",
       " 'space',\n",
       " 'alt_r',\n",
       " 'ctrl_r',\n",
       " 'left',\n",
       " 'down',\n",
       " 'right',\n",
       " 'kp_0',\n",
       " 'kp_.',\n",
       " 'kp_enter',\n",
       " 'shift',\n",
       " 'z',\n",
       " 'x',\n",
       " 'c',\n",
       " 'v',\n",
       " 'b',\n",
       " 'n',\n",
       " 'm',\n",
       " ',',\n",
       " '.',\n",
       " '/',\n",
       " 'shift_r',\n",
       " 'up',\n",
       " 'kp_1',\n",
       " 'kp_2',\n",
       " 'kp_3',\n",
       " 'caps lock',\n",
       " 'a',\n",
       " 's',\n",
       " 'd',\n",
       " 'f',\n",
       " 'g',\n",
       " 'h',\n",
       " 'j',\n",
       " 'k',\n",
       " 'l',\n",
       " ';',\n",
       " \"'\",\n",
       " 'enter',\n",
       " 'kp_4',\n",
       " 'kp_5',\n",
       " 'kp_6',\n",
       " 'kp_+',\n",
       " 'tab',\n",
       " 'q',\n",
       " 'w',\n",
       " 'e',\n",
       " 'r',\n",
       " 't',\n",
       " 'y',\n",
       " 'u',\n",
       " 'i',\n",
       " 'o',\n",
       " 'p',\n",
       " '[',\n",
       " ']',\n",
       " '\\\\',\n",
       " '7',\n",
       " '8',\n",
       " '9',\n",
       " '`',\n",
       " '1',\n",
       " '2',\n",
       " '3',\n",
       " '4',\n",
       " '5',\n",
       " '6',\n",
       " '0',\n",
       " '−',\n",
       " '=',\n",
       " 'backspace',\n",
       " 'num lock',\n",
       " 'kp_÷',\n",
       " 'kp_×',\n",
       " 'kp_-',\n",
       " 'f1',\n",
       " 'f2',\n",
       " 'f3',\n",
       " 'f4',\n",
       " 'f5',\n",
       " 'f6',\n",
       " 'f7',\n",
       " 'f8',\n",
       " 'f9',\n",
       " 'f10',\n",
       " 'f11',\n",
       " 'f12',\n",
       " 'delete',\n",
       " 'home',\n",
       " 'end',\n",
       " 'page up',\n",
       " 'page down',\n",
       " 'dummy_u1']"
      ]
     },
     "execution_count": 55,
     "metadata": {},
     "output_type": "execute_result"
    }
   ],
   "source": [
    "KEYS\n"
   ]
  },
  {
   "cell_type": "code",
   "execution_count": 53,
   "id": "f36c218a-a39f-475c-92e9-5bbfe5b61f2e",
   "metadata": {},
   "outputs": [],
   "source": [
    "KEYS = list(DIC_U_INFORMATION[\"100KEYS\"].keys())"
   ]
  },
  {
   "cell_type": "code",
   "execution_count": null,
   "id": "f7263a6f-6fe0-4f36-ac32-3b57ca7712ef",
   "metadata": {},
   "outputs": [],
   "source": []
  }
 ],
 "metadata": {
  "kernelspec": {
   "display_name": "Python 3",
   "language": "python",
   "name": "python3"
  },
  "language_info": {
   "codemirror_mode": {
    "name": "ipython",
    "version": 3
   },
   "file_extension": ".py",
   "mimetype": "text/x-python",
   "name": "python",
   "nbconvert_exporter": "python",
   "pygments_lexer": "ipython3",
   "version": "3.8.5"
  }
 },
 "nbformat": 4,
 "nbformat_minor": 5
}
